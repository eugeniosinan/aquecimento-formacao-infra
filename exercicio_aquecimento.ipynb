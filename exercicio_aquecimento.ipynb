{
 "cells": [
  {
   "cell_type": "markdown",
   "metadata": {},
   "source": [
    "# Aquecimento para a formação em infraestrutura\n",
    "\n",
    "## Etapas\n",
    "\n",
    "Aqui serão descritas as etapas do desafio que, idealmente, devem ser seguidas de forma sequencial. Para o caso de dificuldade em alguma etapa, você poderá seguir para a próxima, se assim desejar.\n",
    "\n",
    "### Etapa 1: Entendendo os dados 🎲\n",
    "\n",
    "- **Objetivo:** nessa etapa, você deve somente ingerir dados da API do `randomuser.me` e observar o formato dos dados, tentando imaginar como eles poderiam ser usados para construir uma tabela.\n",
    "- **Descrição da solução:** a solução dessa etapa consiste em uma função para consumir a API na URL `https://randomuser.me/api/` e retornar um dicionário com os dados.\n",
    "- **Links úteis:**\n",
    "  - Documentação da API: https://randomuser.me/documentation\n",
    "  - Introdução a ingestão de dados via API: https://www.dataquest.io/blog/python-api-tutorial/\n"
   ]
  },
  {
   "cell_type": "code",
   "execution_count": 1,
   "metadata": {},
   "outputs": [
    {
     "name": "stdout",
     "output_type": "stream",
     "text": [
      "{\"results\":[{\"gender\":\"female\",\"name\":{\"title\":\"Mrs\",\"first\":\"Mathilde\",\"last\":\"Blanc\"},\"location\":{\"street\":{\"number\":8188,\"name\":\"Place du 8 Février 1962\"},\"city\":\"Aix-En-Provence\",\"state\":\"Dordogne\",\"country\":\"France\",\"postcode\":84584,\"coordinates\":{\"latitude\":\"-15.9301\",\"longitude\":\"18.5877\"},\"timezone\":{\"offset\":\"-5:00\",\"description\":\"Eastern Time (US & Canada), Bogota, Lima\"}},\"email\":\"mathilde.blanc@example.com\",\"login\":{\"uuid\":\"b174d403-d1cf-44e4-8696-5a544941ca87\",\"username\":\"happygoose667\",\"password\":\"montag\",\"salt\":\"fW0p4rsB\",\"md5\":\"f6f9cb39c3d7d2b45e381766abda5e93\",\"sha1\":\"ec77d538167f1d2bde7eda0331efb5045fc27880\",\"sha256\":\"388336a979ae9408e8a05c27d739569945de4856681aeae1e1a9d3c68a8b31fb\"},\"dob\":{\"date\":\"1963-05-07T04:42:55.184Z\",\"age\":59},\"registered\":{\"date\":\"2008-05-16T20:32:30.885Z\",\"age\":14},\"phone\":\"03-20-76-54-05\",\"cell\":\"06-80-10-32-02\",\"id\":{\"name\":\"INSEE\",\"value\":\"2630484232665 79\"},\"picture\":{\"large\":\"https://randomuser.me/api/portraits/women/30.jpg\",\"medium\":\"https://randomuser.me/api/portraits/med/women/30.jpg\",\"thumbnail\":\"https://randomuser.me/api/portraits/thumb/women/30.jpg\"},\"nat\":\"FR\"}],\"info\":{\"seed\":\"7613f80e8d87f82c\",\"results\":1,\"page\":1,\"version\":\"1.4\"}}\n"
     ]
    }
   ],
   "source": [
    "## Importando a biblioteca\n",
    "import requests\n",
    "\n",
    "## Fazendo a requisição à API e recebendo o objeto de retorno na variavel \"r\"....esse é um objeto da biblioteca request\n",
    "r = requests.get( 'https://randomuser.me/api/' )\n",
    "\n",
    "## tranformando o objeto request em string e imprimindo na tela.\n",
    "print( r.text )\n"
   ]
  },
  {
   "cell_type": "markdown",
   "metadata": {},
   "source": [
    "### Etapa 2: Coletando dados 💾\n",
    "\n",
    "- **Objetivo:** nessa etapa, você deve coletar dados da API e armazená-los em um arquivo CSV.\n",
    "- **Descrição da solução:** a solução dessa etapa consiste em uma função para coletar uma quantidade `n` de dados da API (sendo `n` um valor fornecido via parâmetro da função), manipulá-los para montar um `pandas.DataFrame` e salvar o resultado em um arquivo CSV.\n",
    "- **Links úteis:**\n",
    "  - Documentação da API: https://randomuser.me/documentation\n",
    "  - Documentação do Pandas: https://pandas.pydata.org/docs/\n",
    "- **Dicas:**\n",
    "  - Para tornar os dados mais fáceis de manipular no futuro, faça com que o `DataFrame` seja \"plano\", ou seja, cada coluna seja um único atributo do objeto.\n",
    "  - Para ter dados suficientes para uma análise razoável nas próximas etapas, recomendamos `n>=500`."
   ]
  },
  {
   "cell_type": "code",
   "execution_count": 2,
   "metadata": {},
   "outputs": [],
   "source": [
    "## Importando as bibliotecas\n",
    "import requests\n",
    "import pandas as pd\n",
    "import json\n",
    "from pandas import json_normalize\n",
    "\n",
    "## Fazendo a requisição à API e setando um n de 600 registros\n",
    "## r será um objeto da biblioteca request\n",
    "r = requests.get( 'https://randomuser.me/api/?results=1500' )\n"
   ]
  },
  {
   "cell_type": "code",
   "execution_count": 3,
   "metadata": {},
   "outputs": [],
   "source": [
    "## Tranformar o objeto r em uma string json \n",
    "dict= json.loads(r.text)\n",
    "\n",
    "## Normalizar a string json, pois existem objetos aninhados. Estes receberam o separador \"_\" \n",
    "df = json_normalize( dict['results'], sep = \"_\" )\n",
    "df.to_csv( \"registros_api.csv\" , sep=';',encoding='utf8', index=False)\n",
    "## print(df)Será "
   ]
  },
  {
   "cell_type": "markdown",
   "metadata": {},
   "source": [
    "### Etapa 3: Manipulando dados 📝\n",
    "\n",
    "- **Objetivo**: agora, você pode observar que, na base de dados obtida, devido às diferentes nacionalidades dos usuários, os números de telefone e celular têm formatos diferentes. Você deve transformá-los para um formato único, escolhido arbitrariamente.\n",
    "- **Descrição da solução**: uma função que recebe, como parâmetro, um `pandas.DataFrame` e retorna um `pandas.DataFrame` com as mesmas colunas, mas com os números de telefone e celular formatados de forma única.\n",
    "- **Links úteis:**\n",
    "- Documentação do Pandas: https://pandas.pydata.org/docs/\n"
   ]
  },
  {
   "cell_type": "code",
   "execution_count": 4,
   "metadata": {},
   "outputs": [],
   "source": [
    "def format_phone_field(df, colname):\n",
    "\n",
    "    if colname in df.columns:\n",
    "        \n",
    "        def formatPhone(x):\n",
    "            x = ''.join(c for c in x if c.isdigit())   # Removendo os caracters não numéricos\n",
    "            x = x.zfill(8)   # Completando com zeros a esquerda caso tenha menos de 7 numeros\n",
    "            x = x[-8:]   # pegando os 7 números da direita para a esquerda\n",
    "            x = x[:4] + '-' + x[4:]\n",
    "            return x   # retorno da função\n",
    "\n",
    "        df[colname] = df[colname].apply(formatPhone) # Aplicando a função na coluna do dataframe\n",
    "        \n",
    "    else:\n",
    "        print(\"Variavel nao existe!\")\n",
    "    \n",
    "## Aplicando a função de formatação dos números de telefone e celular nas respectivas colunas do dataframe\n",
    "format_phone_field(df, \"phone\")\n",
    "format_phone_field(df, \"cell\")"
   ]
  },
  {
   "cell_type": "markdown",
   "metadata": {},
   "source": [
    "### Etapa 4: Analisando dados sem agrupamento 📊\n",
    "\n",
    "- **Objetivo**: com seus dados devidamente tratados, você deve gerar os seguintes itens:\n",
    "  - Um relatório em texto (não precisa de formatação) contendo:\n",
    "    - A porcentagem dos usuários por gênero\n",
    "    - A porcentagem dos usuários por país\n",
    "  - Uma imagem contendo um gráfico de distribuição da idade dos usuários (a biblioteca utilizada para o `plot` pode ser qualquer uma).\n",
    "- **Descrição da solução**: uma função que recebe, como parâmetro, um `pandas.DataFrame` e gera dois arquivos: um relatório em texto e outro contendo um gráfico de distribuição da idade dos usuários.\n",
    "- **Links úteis:**\n",
    "  - Documentação do Pandas: https://pandas.pydata.org/docs/\n",
    "  - Documentação do Matplotlib: https://matplotlib.org/\n",
    "  - Documentação do Seaborn: https://seaborn.pydata.org/"
   ]
  },
  {
   "cell_type": "code",
   "execution_count": 5,
   "metadata": {},
   "outputs": [],
   "source": [
    "import numpy as np\n",
    "import seaborn as sns\n",
    "sns.set_theme(style=\"ticks\")\n",
    "\n",
    "df_gender = df.gender.value_counts().rename_axis('gender').to_frame('total').reset_index()\n",
    "df_gender[\"percentage\"] = round ( df_gender.total / df_gender.total.sum() * 100, 0 )\n",
    "df_gender\n",
    "\n",
    "df_country = df.location_country.value_counts().rename_axis('country').to_frame('total').reset_index()\n",
    "df_country[\"percentage\"] = round ( df_country.total / df_country.total.sum() * 100, 0 )\n",
    "df_country\n",
    "\n",
    "html = df_country.to_html()\n",
    "\n",
    "\n",
    "with open(\"aquecimento.html\", 'w') as arquivo:\n",
    "    arquivo.write( \n",
    "        \"<h1> Relatório Etapa 04</h1> \\n\" +\n",
    "        \"<h3> Percentual por sexo</h3>\" +\n",
    "        df_gender.to_html() + \"\\n\\n\\n\" +\n",
    "        \"<h3> Percentual por páis</h3>\" +\n",
    "        df_country.to_html()\n",
    "    )\n"
   ]
  },
  {
   "cell_type": "code",
   "execution_count": 9,
   "metadata": {},
   "outputs": [
    {
     "name": "stdout",
     "output_type": "stream",
     "text": [
      "21\n",
      "77\n"
     ]
    },
    {
     "data": {
      "text/plain": [
       "0       50 a 59\n",
       "1       50 a 59\n",
       "2       20 a 29\n",
       "3       30 a 39\n",
       "4       60 a 69\n",
       "         ...   \n",
       "1495    60 a 69\n",
       "1496    30 a 39\n",
       "1497    20 a 29\n",
       "1498    30 a 39\n",
       "1499    50 a 59\n",
       "Name: fx_etaria, Length: 1500, dtype: category\n",
       "Categories (6, object): ['20 a 29' < '30 a 39' < '40 a 49' < '50 a 59' < '60 a 69' < '70 a 79']"
      ]
     },
     "execution_count": 9,
     "metadata": {},
     "output_type": "execute_result"
    }
   ],
   "source": [
    "## Escolhendo os binds\n",
    "print( df['dob_age'].min() ) ## 21\n",
    "print(  df['dob_age'].max()) ## 77\n",
    "\n",
    "\n",
    "bins= [ 20, 30, 40, 50, 60, 70, 80]\n",
    "labels = ['20 a 29', '30 a 39', '40 a 49', '50 a 59','60 a 69', '70 a 79']\n",
    "\n",
    "df['fx_etaria'] = pd.cut( df['dob_age'], bins=bins, labels=labels, right=False)\n",
    "\n",
    "df_fx_etaria = df.groupby(by=['fx_etaria'], dropna=False).count()[['gender']].rename(columns={'gender':'total'}).reset_index()\n",
    "\n",
    "df.fx_etaria\n",
    "\n"
   ]
  },
  {
   "cell_type": "code",
   "execution_count": null,
   "metadata": {},
   "outputs": [],
   "source": [
    "import plotly.express as px\n",
    "\n",
    "fig = px.histogram(df, x=\"fx_etaria\")\n",
    "fig.show()\n",
    "\n",
    "print( df.dob_age.describe() )"
   ]
  },
  {
   "cell_type": "markdown",
   "metadata": {},
   "source": [
    "### Etapa 5: Analisando dados com agrupamento 📊\n",
    "\n",
    "- **Objetivo**: utilizar técnicas de agrupamento para descobrir usuários que moram no mesmo país e estado.\n",
    "- **Descrição da solução**: uma função que recebe, como parâmetro, um `pandas.DataFrame` e retorna um `pandas.DataFrame` com as mesmas colunas, mas com os dados agrupados por país e estado.\n",
    "- **Links úteis:**\n",
    "  - Documentação do Pandas: https://pandas.pydata.org/docs/"
   ]
  },
  {
   "cell_type": "code",
   "execution_count": 48,
   "metadata": {},
   "outputs": [
    {
     "name": "stdout",
     "output_type": "stream",
     "text": [
      "                                               total\n",
      "location_country location_state                     \n",
      "Australia        Australian Capital Territory      7\n",
      "                 New South Wales                  16\n",
      "                 Northern Territory                8\n",
      "                 Queensland                       13\n",
      "                 South Australia                   6\n",
      "...                                              ...\n",
      "United States    Vermont                           2\n",
      "                 Washington                        2\n",
      "                 West Virginia                     2\n",
      "                 Wisconsin                         1\n",
      "                 Wyoming                           1\n",
      "\n",
      "[514 rows x 1 columns]\n"
     ]
    }
   ],
   "source": [
    "## Função que recebe um DF e dois nomes de coluna como parametros e retorna um DF com o agrupamento de duas colunas caso essas existam no df passado como parametro\n",
    "def group_country_state(df, col1, col2):\n",
    "       \n",
    "    lista_campos = [ col1, col2 ]\n",
    "    lista_colunas = df.columns\n",
    "\n",
    "    ## verificar se todos os campos da lista_campos estão contidos na lista_colunas\n",
    "    check = all( item in lista_colunas for item in  lista_campos) ## Return true or false\n",
    "\n",
    "    if check is True:\n",
    "        df_group = df.groupby(by= [ col1, col2 ], dropna=False).count()[['gender']].rename( columns={'gender':'total'} )\n",
    "        return df_group\n",
    "\n",
    "table_group = group_country_state(df, 'location_country', 'location_state')\n",
    "print(table_group )\n",
    "\n"
   ]
  },
  {
   "cell_type": "markdown",
   "metadata": {},
   "source": [
    "### Etapa 6 (opcional): Particionando dados 🎼\n",
    "\n",
    "- **Objetivo**: realizar o particionamento dos dados em formato Hive utilizando as informações de país e estado de cada usuário.\n",
    "- **Descrição da solução**: uma função que recebe, como parâmetro, um `pandas.DataFrame` e salva todos os dados em arquivos CSV particionados por país e estado.\n",
    "- **Links úteis:**\n",
    "  - Documentação do Pandas: https://pandas.pydata.org/docs/\n",
    "  - Documentação do Hive: https://hive.apache.org/\n",
    "  - Documentação do BigQuery para dados particionados em Hive: https://cloud.google.com/bigquery/docs/hive-partitioned-queries-gcs\n",
    "- **Exemplo para esclarecimento**: supondo que haja um `DataFrame` conforme o seguinte:\n",
    "\n",
    "  ```python\n",
    "      ano  mes sigla_uf dado\n",
    "  0  2020    1       SP    a\n",
    "  1  2021    2       SP    b\n",
    "  2  2020    3       RJ    c\n",
    "  3  2021    4       RJ    d\n",
    "  4  2020    5       PR    e\n",
    "  5  2021    6       PR    f\n",
    "  6  2021    6       PR    g\n",
    "  7  2025    9       PR    h\n",
    "  ```\n",
    "\n",
    "  Caso quiséssemos particionar o `DataFrame` utilizando as colunas `ano`, `mes` e `sigla_uf`, o resultado obtido seria a seguinte estrutura de diretórios:\n",
    "\n",
    "  ![Exemplo de particionamento](./img/exemplo-particao.png)\n",
    "\n",
    "  Cada arquivo gerado, então, teria o seguinte formato (esse em questão seria o `ano=2025/mes=9/sigla_uf=PR/data.csv`):\n",
    "\n",
    "  ```python\n",
    "    dado\n",
    "  0    h\n",
    "  ```\n",
    "\n",
    "  Note que, no arquivo CSV gerado, as colunas referentes às informações utilizadas para particionamento são removidas."
   ]
  },
  {
   "cell_type": "code",
   "execution_count": null,
   "metadata": {},
   "outputs": [],
   "source": [
    "## Função para criar as pastas por país e cidade\n",
    "def create_partitions_country_state( df ):\n",
    "    \n",
    "    import os\n",
    "\n",
    "    ## Pegando o caminho da pasta do script\n",
    "    path_script = os.path.dirname(os.path.realpath(\"__file__\"))\n",
    "\n",
    "    # Criar se nao existir o diretorio\n",
    "    if not os.path.exists(os.path.join( path_script,'partitions')):\n",
    "        os.makedirs(os.path.join( path_script,'partitions')) \n",
    "\n",
    "    path_partitions = os.path.join( path_script,'partitions')\n",
    "\n",
    "    ## Criado um df com agrupamento de cidade e pais com o index resetado para não conter index multiplo\n",
    "    df2 = df.groupby(by= [ 'location_country','location_state' ], dropna=False).count()[['gender']].rename( columns={'gender':'total'} ).reset_index()\n",
    "\n",
    "    ## Criar dicionário com cidade na chave e país no valor\n",
    "    dicionario_cidade_capital = pd.Series(df2.location_country.values,index=df2.location_state).to_dict()\n",
    "\n",
    "    ## iterar neste dicionario para criar os bancos a partir das chaves e valores do dicionario contendo o parâmetro de seleçao da consulta ao df principal\n",
    "    for key, value in dicionario_cidade_capital.items():\n",
    "        \n",
    "        pais = value\n",
    "        cidade = key\n",
    "        filename = f\"{pais}_{cidade}.csv\" \n",
    "\n",
    "        path_pais = os.path.join( path_partitions,\"country=\" + pais )\n",
    "        path_cidade = os.path.join( path_partitions, \"country=\" + pais, \"state=\" + cidade )\n",
    "\n",
    "        \n",
    "        if not os.path.exists( path_pais ):     ## Criar se nao existir o diretorio de país\n",
    "            os.makedirs( path_pais )\n",
    "        ## \n",
    "        if not os.path.exists( path_cidade ):   ## riar se nao existir o diretorio de cidades\n",
    "            os.makedirs( path_cidade )\n",
    "\n",
    "        ## Criar os CSV's dentro das pastas\n",
    "        df.loc[ ( df.location_country == pais ) & ( df.location_state == cidade )].to_csv( path_cidade + \"//\" +filename )\n",
    "\n",
    "try:\n",
    "    ## Aplicando a função e criando as partições\n",
    "    create_partitions_country_state( df )\n",
    "except Exception as e:\n",
    "    print(e)"
   ]
  },
  {
   "cell_type": "markdown",
   "metadata": {},
   "source": [
    "### Etapa 7: Parametrizando seu código ⚙️\n",
    "\n",
    "- **Objetivo:** nessa etapa, você deve parametrizar seu código para que ele seja executado com valores diversos fornecidos pelo usuário.\n",
    "- **Descrição da solução:** a solução dessa etapa consiste em uma função principal que recebe diversos parâmetros e executa as diversas etapas descritas anteriormente em função dos parâmetros fornecidos. Note que essa etapa é crucial para que seu código se torne reutilizável.\n",
    "- **Dicas:**\n",
    "  - Tente pensar no maior número de parâmetros que sejam relevantes para sua pipeline de dados, sem afetar sua funcionalidade.\n",
    "  - Colocar valores padrão para alguns desses parâmetros reduz o ônus do usuário de preenchê-los por conta própria.\n",
    "\n",
    "\n",
    "# CIE - Centro de Inteligência Epidemiológica\n",
    "![](https://svs.rio.br/epirio/img/CIE_RODAPE.svg)"
   ]
  },
  {
   "cell_type": "code",
   "execution_count": null,
   "metadata": {},
   "outputs": [],
   "source": []
  }
 ],
 "metadata": {
  "kernelspec": {
   "display_name": "Python 3.8.10 64-bit",
   "language": "python",
   "name": "python3"
  },
  "language_info": {
   "codemirror_mode": {
    "name": "ipython",
    "version": 3
   },
   "file_extension": ".py",
   "mimetype": "text/x-python",
   "name": "python",
   "nbconvert_exporter": "python",
   "pygments_lexer": "ipython3",
   "version": "3.8.10"
  },
  "orig_nbformat": 4,
  "vscode": {
   "interpreter": {
    "hash": "31f2aee4e71d21fbe5cf8b01ff0e069b9275f58929596ceb00d14d90e3e16cd6"
   }
  }
 },
 "nbformat": 4,
 "nbformat_minor": 2
}
